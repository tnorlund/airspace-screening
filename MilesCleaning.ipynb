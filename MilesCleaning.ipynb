{
 "cells": [
  {
   "cell_type": "code",
   "execution_count": 260,
   "metadata": {},
   "outputs": [],
   "source": [
    "import pandas as pd\n",
    "import json\n",
    "import numpy as np\n",
    "import pytz\n",
    "from haversine import haversine, Unit\n",
    "import warnings\n"
   ]
  },
  {
   "cell_type": "code",
   "execution_count": 360,
   "metadata": {
    "scrolled": true
   },
   "outputs": [],
   "source": [
    "df = pd.read_csv( 'data/driving_searches.csv' )\n",
    "miles = []\n",
    "for index, row in df.iterrows():\n",
    "    json_obj = json.loads( row['json_obj'] )\n",
    "    if len( json_obj['routes'] ) > 0:\n",
    "        if len( json_obj['routes'][0]['legs'] ) > 0:\n",
    "            number, measure = json_obj['routes'][0]['legs'][0]['distance']['text'].split(' ')\n",
    "            if measure != 'mi':\n",
    "                miles.append( to_miles( float( number.replace(',', '') ), measure ) )\n",
    "            else:\n",
    "                miles.append( float( number.replace(',', '') ) )\n",
    "        else:\n",
    "            miles.append(0)\n",
    "    else:\n",
    "        miles.append(0)\n",
    "df['miles'] = miles\n",
    "df.to_csv( 'cleaned_searches.csv', sep='\\t', index=False )"
   ]
  },
  {
   "cell_type": "code",
   "execution_count": null,
   "metadata": {},
   "outputs": [],
   "source": []
  }
 ],
 "metadata": {
  "kernelspec": {
   "display_name": "Python 3",
   "language": "python",
   "name": "python3"
  },
  "language_info": {
   "codemirror_mode": {
    "name": "ipython",
    "version": 3
   },
   "file_extension": ".py",
   "mimetype": "text/x-python",
   "name": "python",
   "nbconvert_exporter": "python",
   "pygments_lexer": "ipython3",
   "version": "3.8.5"
  }
 },
 "nbformat": 4,
 "nbformat_minor": 4
}
